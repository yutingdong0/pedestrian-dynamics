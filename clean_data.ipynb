{
 "cells": [
  {
   "cell_type": "markdown",
   "id": "65a9fffc",
   "metadata": {},
   "source": [
    "## Remove ending behaviour\n"
   ]
  },
  {
   "cell_type": "code",
   "execution_count": 26,
   "id": "235402a4",
   "metadata": {},
   "outputs": [],
   "source": [
    "import pickle\n",
    "# Load data\n",
    "dataset_index = 6\n",
    "data= pickle.load(open(f'mapped_data/data_mapped_{dataset_index}.pkl', \"rb\"))"
   ]
  },
  {
   "cell_type": "code",
   "execution_count": 27,
   "id": "24758535",
   "metadata": {},
   "outputs": [
    {
     "data": {
      "text/plain": [
       "1821"
      ]
     },
     "execution_count": 27,
     "metadata": {},
     "output_type": "execute_result"
    }
   ],
   "source": [
    "# number of frames\n",
    "data['frame'].nunique()"
   ]
  },
  {
   "cell_type": "code",
   "execution_count": 28,
   "id": "6a21c8d7",
   "metadata": {},
   "outputs": [],
   "source": [
    "# Remove the last n frames\n",
    "n = 100\n",
    "data = data[data['frame'] < data['frame'].max() - n]\n",
    "\n",
    "# Save the data\n",
    "data.to_pickle(f'cleaned_data/data_{dataset_index}.pkl')"
   ]
  }
 ],
 "metadata": {
  "kernelspec": {
   "display_name": "venv_pc",
   "language": "python",
   "name": "python3"
  },
  "language_info": {
   "codemirror_mode": {
    "name": "ipython",
    "version": 3
   },
   "file_extension": ".py",
   "mimetype": "text/x-python",
   "name": "python",
   "nbconvert_exporter": "python",
   "pygments_lexer": "ipython3",
   "version": "3.12.7"
  }
 },
 "nbformat": 4,
 "nbformat_minor": 5
}
