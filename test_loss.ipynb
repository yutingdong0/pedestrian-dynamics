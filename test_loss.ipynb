{
 "cells": [
  {
   "cell_type": "code",
   "execution_count": 1,
   "id": "fa198837",
   "metadata": {},
   "outputs": [],
   "source": [
    "import numpy as np"
   ]
  },
  {
   "cell_type": "code",
   "execution_count": 2,
   "id": "f5488b38",
   "metadata": {},
   "outputs": [
    {
     "name": "stderr",
     "output_type": "stream",
     "text": [
      "<>:2: SyntaxWarning: invalid escape sequence '\\s'\n",
      "<>:2: SyntaxWarning: invalid escape sequence '\\s'\n",
      "C:\\Users\\yutin\\AppData\\Local\\Temp\\ipykernel_22260\\3633676519.py:2: SyntaxWarning: invalid escape sequence '\\s'\n",
      "  \"\"\"\n"
     ]
    }
   ],
   "source": [
    "def loss_function(real_positions, predicted_positions, t_eval):\n",
    "    \"\"\"\n",
    "    j(t) = \\frac{1}{N} \\sum_{i=1}^N \\frac{1}{2} (\\hat{x}_i (t) - x_i (t))^2\n",
    "    J = \\int_0^T e^{-t/T} j(t) dt\n",
    "\n",
    "    Compute the loss function J for pedestrian trajectory prediction.\n",
    "    \n",
    "    Parameters:\n",
    "        params: Model parameters (first N values are c_i, last one is s)\n",
    "        real_positions: Actual pedestrian positions (shape: [num_pedestrians, num_frames])\n",
    "        t_eval: Time evaluation points (shape: [num_frames])\n",
    "        initial_positions: Initial pedestrian positions (shape: [num_pedestrians])\n",
    "    \n",
    "    Returns:\n",
    "        Loss value J\n",
    "    \"\"\"\n",
    "    # Default circumference\n",
    "    circumference = 2*np.pi*3 + 4 * 2\n",
    "\n",
    "    num_pedestrians, num_frames = real_positions.shape\n",
    "    T = t_eval[-1]  # Total simulation time\n",
    "\n",
    "    # Compute squared error\n",
    "    delta = np.abs(predicted_positions - real_positions) % circumference\n",
    "    error = np.minimum(delta, circumference - delta)\n",
    "    squared_errors = 0.5 * error ** 2  # Shape: [num_pedestrians, num_frames]\n",
    "\n",
    "    # Apply e^(-t/T)\n",
    "    time_weights = np.exp(-t_eval / T)  # Shape: [num_frames]\n",
    "    weighted_errors = squared_errors * time_weights \n",
    "\n",
    "    # Integrate over time (using summation)\n",
    "    dt = t_eval[1] - t_eval[0]\n",
    "    loss_per_pedestrian = np.sum(weighted_errors, axis=1) * dt\n",
    "    J = np.mean(loss_per_pedestrian)  # Average over all pedestrians\n",
    "\n",
    "    return J"
   ]
  },
  {
   "cell_type": "code",
   "execution_count": null,
   "id": "7d075f61",
   "metadata": {},
   "outputs": [],
   "source": []
  }
 ],
 "metadata": {
  "kernelspec": {
   "display_name": "venv",
   "language": "python",
   "name": "python3"
  },
  "language_info": {
   "codemirror_mode": {
    "name": "ipython",
    "version": 3
   },
   "file_extension": ".py",
   "mimetype": "text/x-python",
   "name": "python",
   "nbconvert_exporter": "python",
   "pygments_lexer": "ipython3",
   "version": "3.12.3"
  }
 },
 "nbformat": 4,
 "nbformat_minor": 5
}
